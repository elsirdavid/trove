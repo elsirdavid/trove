{
 "cells": [
  {
   "cell_type": "markdown",
   "metadata": {},
   "source": [
    "# II. NLP Preprocessing\n"
   ]
  },
  {
   "cell_type": "markdown",
   "metadata": {},
   "source": [
    "See `preprocessing/README.md` for details on our clinical text preprocessing used our manuscript. We also recommend [scispaCy](https://allenai.github.io/scispacy/) as a high quality NLP preprocessing framework for biomedical text. Trove assumes documents are encoded in a JSON format that is internally transformed into sentences and documents for labeling function use. \n",
    "\n",
    "This tutorial uses the _BioCreative V Chemical-Disease Relation (CDR) Task Corpus_, which is freely available for download from http://www.biocreative.org/media/store/files/2016/CDR_Data.zip\n",
    "    "
   ]
  },
  {
   "cell_type": "code",
   "execution_count": 29,
   "metadata": {},
   "outputs": [],
   "source": [
    "import re\n",
    "from collections import defaultdict\n",
    "\n",
    "def parse_doc(doc, disable, keep_whitespace = False):\n",
    "    \"\"\"\n",
    "    Given a parsed spaCy document, convert to a dictionary of lists for each field.\n",
    "    \"\"\"\n",
    "    disable = {\"ner\", \"parser\", \"tagger\", \"lemmatizer\"} if not disable else disable\n",
    "    for position, sent in enumerate(doc.sents):\n",
    "        parts = defaultdict(list)\n",
    "\n",
    "        for i, token in enumerate(sent):\n",
    "\n",
    "            text = str(sent.text)\n",
    "            parts['newlines'] = [m.span()[0] for m in re.finditer(r'''(\\n)''', text)]\n",
    "\n",
    "            if not keep_whitespace and not token.text.strip():\n",
    "                continue\n",
    "\n",
    "            parts['words'].append(token.text)\n",
    "            parts['abs_char_offsets'].append(token.idx)\n",
    "\n",
    "            # optional NLP tags\n",
    "            if \"lemmatizer\" not in disable:\n",
    "                parts['lemmas'].append(token.lemma_)\n",
    "            if \"tagger\" not in disable:\n",
    "                parts['pos_tags'].append(token.tag_)\n",
    "            if \"ner\" not in disable:\n",
    "                parts['ner_tags'].append(\n",
    "                    token.ent_type_ if token.ent_type_ else 'O'\n",
    "                )\n",
    "            if \"parser\" not in disable:\n",
    "                head_idx = 0 if token.head is token else \\\n",
    "                    token.head.i - sent[0].i + 1\n",
    "                parts['dep_parents'].append(head_idx)\n",
    "                parts['dep_labels'].append(token.dep_)\n",
    "\n",
    "        # sentence is all whitespace\n",
    "        if not parts['words']:\n",
    "            continue\n",
    "\n",
    "        parts['i'] = position\n",
    "        yield parts"
   ]
  },
  {
   "cell_type": "code",
   "execution_count": 30,
   "metadata": {},
   "outputs": [],
   "source": [
    "import scispacy\n",
    "import spacy\n",
    "\n",
    "# PubMed abstract 227508\n",
    "nlp = spacy.load(\"en_core_sci_sm\")\n",
    "text = \"\"\"Naloxone reverses the antihypertensive effect of clonidine. In unanesthetized, spontaneously hypertensive rats the decrease in blood pressure and heart rate produced by intravenous clonidine, 5 to 20 micrograms/kg, was inhibited or reversed by nalozone, 0.2 to 2 mg/kg. The hypotensive effect of 100 mg/kg alpha-methyldopa was also partially reversed by naloxone. Naloxone alone did not affect either blood pressure or heart rate. In brain membranes from spontaneously hypertensive rats clonidine, 10(-8) to 10(-5) M, did not influence stereoselective binding of [3H]-naloxone (8 nM), and naloxone, 10(-8) to 10(-4) M, did not influence clonidine-suppressible binding of [3H]-dihydroergocryptine (1 nM). These findings indicate that in spontaneously hypertensive rats the effects of central alpha-adrenoceptor stimulation involve activation of opiate receptors. As naloxone and clonidine do not appear to interact with the same receptor site, the observed functional antagonism suggests the release of an endogenous opiate by clonidine or alpha-methyldopa and the possible role of the opiate in the central control of sympathetic tone.\"\"\"\n",
    "doc = nlp(text)\n"
   ]
  },
  {
   "cell_type": "code",
   "execution_count": 31,
   "metadata": {},
   "outputs": [],
   "source": [
    "import json\n",
    "\n",
    "sents = list(parse_doc(doc, disable=['lemmatizer', 'ner']))\n",
    "data = json.dumps({\n",
    "    'name': str(227508),\n",
    "    'metadata': {},\n",
    "    'sentences': sents\n",
    "})"
   ]
  },
  {
   "cell_type": "code",
   "execution_count": null,
   "metadata": {},
   "outputs": [],
   "source": []
  }
 ],
 "metadata": {
  "kernelspec": {
   "display_name": "trove",
   "language": "python",
   "name": "trove"
  },
  "language_info": {
   "codemirror_mode": {
    "name": "ipython",
    "version": 3
   },
   "file_extension": ".py",
   "mimetype": "text/x-python",
   "name": "python",
   "nbconvert_exporter": "python",
   "pygments_lexer": "ipython3",
   "version": "3.6.11"
  }
 },
 "nbformat": 4,
 "nbformat_minor": 4
}
